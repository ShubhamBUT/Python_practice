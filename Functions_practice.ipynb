{
 "cells": [
  {
   "cell_type": "code",
   "execution_count": 1,
   "id": "9bc21138",
   "metadata": {},
   "outputs": [
    {
     "name": "stdout",
     "output_type": "stream",
     "text": [
      "shubham 34\n"
     ]
    }
   ],
   "source": [
    "#Write a program to create a function that takes two arguments, name and age, and print their value.\n",
    "\n",
    "def demo(name,age):\n",
    "    print(name,age)\n",
    "    \n",
    "demo(\"shubham\",34)\n"
   ]
  },
  {
   "cell_type": "code",
   "execution_count": 2,
   "id": "2cf162d9",
   "metadata": {},
   "outputs": [
    {
     "name": "stdout",
     "output_type": "stream",
     "text": [
      "Student details: SHUBHAM 26 five abc shool\n",
      "Student details: SHUBHAM 26 SEVEN abc shool\n"
     ]
    }
   ],
   "source": [
    "#Create a function with variable length of arguments\n",
    "\n",
    "def student(name,age,grade='five',school=\"abc shool\"):\n",
    "    print(\"Student details:\",name,age,grade,school)\n",
    "\n",
    "student('SHUBHAM',26)\n",
    "# without passing school\n",
    "student('SHUBHAM',26,'SEVEN')"
   ]
  },
  {
   "cell_type": "code",
   "execution_count": 3,
   "id": "1b17cb33",
   "metadata": {},
   "outputs": [
    {
     "name": "stdout",
     "output_type": "stream",
     "text": [
      "Student Details: Jessa 14\n",
      "Student Details: Jon 12\n",
      "Student Details: Donald 13\n"
     ]
    }
   ],
   "source": [
    "# function with 2 keyword arguments\n",
    "def student(name, age):\n",
    "    print('Student Details:', name, age)\n",
    "\n",
    "# default function call\n",
    "student('Jessa', 14)\n",
    "\n",
    "# both keyword arguments\n",
    "student(name='Jon', age=12)\n",
    "\n",
    "# 1 positional and 1 keyword\n",
    "student('Donald', age=13)\n"
   ]
  },
  {
   "cell_type": "code",
   "execution_count": 4,
   "id": "d9750f02",
   "metadata": {},
   "outputs": [
    {
     "name": "stdout",
     "output_type": "stream",
     "text": [
      "10\n"
     ]
    }
   ],
   "source": [
    "#Program to subtract 2 numbers using positional arguments.\n",
    "\n",
    "def substract(a,b):\n",
    "    print(a-b)\n",
    "\n",
    "substract(50,40)"
   ]
  },
  {
   "cell_type": "code",
   "execution_count": 5,
   "id": "fa4ca67a",
   "metadata": {},
   "outputs": [
    {
     "name": "stdout",
     "output_type": "stream",
     "text": [
      "student details:  Jessa 14\n",
      "student details:  Jon 12\n",
      "student details:  Donald 13\n"
     ]
    }
   ],
   "source": [
    "def student(name,age):         ## function with 2 keyword arguments\n",
    "    print(\"student details: \",name,age)\n",
    "    \n",
    "# default function call\n",
    "student('Jessa', 14)\n",
    "\n",
    "# both keyword arguments\n",
    "student(name='Jon', age=12)\n",
    "\n",
    "# 1 positional and 1 keyword\n",
    "student('Donald', age=13)\n",
    "    \n"
   ]
  },
  {
   "cell_type": "code",
   "execution_count": 6,
   "id": "1fd3ec8c",
   "metadata": {},
   "outputs": [
    {
     "ename": "SyntaxError",
     "evalue": "positional argument follows keyword argument (408059626.py, line 7)",
     "output_type": "error",
     "traceback": [
      "\u001b[1;36m  Input \u001b[1;32mIn [6]\u001b[1;36m\u001b[0m\n\u001b[1;33m    get_student(name='Jessa', 12, 'Six')\u001b[0m\n\u001b[1;37m                                       ^\u001b[0m\n\u001b[1;31mSyntaxError\u001b[0m\u001b[1;31m:\u001b[0m positional argument follows keyword argument\n"
     ]
    }
   ],
   "source": [
    "#keyword arguments should follow positional arguments only.\n",
    "#a keyword argument must always be after a non-keyword argument (positional argument).\n",
    "\n",
    "def get_student(name, age, grade):\n",
    "    print(name, age, grade)\n",
    "\n",
    "get_student(name='Jessa', 12, 'Six')"
   ]
  },
  {
   "cell_type": "markdown",
   "id": "46f1d3e6",
   "metadata": {},
   "source": [
    "# The order of keyword arguments is not important, but All the keyword arguments passed must match one of the arguments accepted by the function."
   ]
  },
  {
   "cell_type": "code",
   "execution_count": null,
   "id": "365b223b",
   "metadata": {},
   "outputs": [],
   "source": [
    "def get_student(name, age, grade):\n",
    "    print(name, age, grade)\n",
    "\n",
    "get_student(grade='Six', name='Jessa', age=12)\n",
    "# Output: Jessa 12 Six\n",
    "\n",
    "get_student(name='Jessa', age=12, standard='Six')\n",
    "# Output: TypeError: get_student() got an unexpected keyword argument 'standard'"
   ]
  },
  {
   "cell_type": "markdown",
   "id": "b599f524",
   "metadata": {},
   "source": [
    "#when we pass multiple arguments to the function such type of arguments are called as arbitrary arguments or variable length arguments.\n",
    "\n",
    "=>>We use variable-length arguments if we don’t know the number of arguments needed for the function in advance.\n",
    "\n",
    "#@Types of Arbitrary Arguments:\n",
    "\n",
    "arbitrary positional arguments (*args)\n",
    "arbitrary keyword arguments (**kwargs)"
   ]
  },
  {
   "cell_type": "code",
   "execution_count": null,
   "id": "d94d489b",
   "metadata": {},
   "outputs": [],
   "source": [
    "## function with variable-length arguments\n",
    "def percentage(*args):\n",
    "    sum=0\n",
    "    for i in args:\n",
    "        \n",
    "        sum+=i\n",
    "    avg=sum/len(args)\n",
    "    print(\"average: \",avg)\n",
    "percentage(56,61,73)\n",
    "    "
   ]
  },
  {
   "cell_type": "code",
   "execution_count": null,
   "id": "e6497463",
   "metadata": {},
   "outputs": [],
   "source": [
    "#Write a program to create function calculation() \n",
    "#such that it can accept two variables and calculate addition and subtraction. Also, \n",
    "#it must return both addition and subtraction in a single return call.\n",
    "\n",
    "\n",
    "def calculation(a, b):\n",
    "    add=a+b\n",
    "    subs=a-b\n",
    "    return add,subs\n",
    "\n",
    "res = calculation(40, 10)\n",
    "print(res)\n"
   ]
  },
  {
   "cell_type": "code",
   "execution_count": 7,
   "id": "2f012146",
   "metadata": {},
   "outputs": [
    {
     "name": "stdout",
     "output_type": "stream",
     "text": [
      "shubham salary is 10000\n",
      "neha salary is 9000\n"
     ]
    }
   ],
   "source": [
    "#Write a program to create a function show_employee() using the following conditions.\n",
    "\n",
    "#==>It should accept the employee’s name and salary and display both.\n",
    "#==>If the salary is missing in the function call then assign default value 9000 to salar\n",
    "\n",
    "def show_employee(name,salary=9000):\n",
    "    print(name,\"salary is\",salary)\n",
    "    \n",
    "show_employee(\"shubham\",10000)\n",
    "show_employee(\"neha\")"
   ]
  },
  {
   "cell_type": "code",
   "execution_count": 8,
   "id": "6c596dfa",
   "metadata": {},
   "outputs": [
    {
     "name": "stdout",
     "output_type": "stream",
     "text": [
      "14\n"
     ]
    }
   ],
   "source": [
    "#Create an inner function to calculate the addition in the following way\n",
    "#==>Create an outer function that will accept two parameters, a and b\n",
    "#==>Create an inner function inside an outer function that will calculate the addition of a and b\n",
    "#==>At last, an outer function will add 5 into addition and return it\n",
    "\n",
    "def func1(a,b):\n",
    "    def add(a,b):\n",
    "        return a+b\n",
    "    addition=add(a,b)\n",
    "    result=addition+5\n",
    "    print(result)\n",
    "func1(4,5)\n",
    "    "
   ]
  },
  {
   "cell_type": "code",
   "execution_count": 12,
   "id": "91401894",
   "metadata": {},
   "outputs": [
    {
     "name": "stdout",
     "output_type": "stream",
     "text": [
      "55\n"
     ]
    }
   ],
   "source": [
    "#Write a program to create a recursive function to calculate the sum of numbers from 0 to 10.\n",
    "\n",
    "def rec_func(n):\n",
    "    #sum=0\n",
    "    if n==0:\n",
    "        return 0\n",
    "    else:\n",
    "        return n+rec_func(n-1)\n",
    "print(rec_func(10))\n",
    "        "
   ]
  },
  {
   "cell_type": "code",
   "execution_count": 14,
   "id": "2644f756",
   "metadata": {},
   "outputs": [
    {
     "name": "stdout",
     "output_type": "stream",
     "text": [
      "shubham 29\n"
     ]
    }
   ],
   "source": [
    "# Assign a different name to function and call it through the new name\n",
    "\n",
    "def display_student(name,age):\n",
    "    print(name,age)\n",
    "    \n",
    "show_student=display_student\n",
    "# call using new name    \n",
    "show_student(\"shubham\",29)\n"
   ]
  },
  {
   "cell_type": "code",
   "execution_count": 25,
   "id": "01f2fdb9",
   "metadata": {},
   "outputs": [
    {
     "name": "stdout",
     "output_type": "stream",
     "text": [
      "4 6 8 10 12 14 16 18 20 22 24 26 28 "
     ]
    }
   ],
   "source": [
    "i=[]\n",
    "for i in range(4,30,2):\n",
    "    print(i,end=\" \")"
   ]
  },
  {
   "cell_type": "code",
   "execution_count": 39,
   "id": "dd4e5f25",
   "metadata": {},
   "outputs": [
    {
     "data": {
      "text/plain": [
       "[4, 6, 8, 10, 12, 14, 16, 18, 20, 22, 24, 26, 28, 30]"
      ]
     },
     "execution_count": 39,
     "metadata": {},
     "output_type": "execute_result"
    }
   ],
   "source": [
    "#Generate a Python list of all the even numbers between 4 to 30 using def function\n",
    "#also include 30\n",
    "def generate_even_number(start,end):\n",
    "    even_number=[]\n",
    "    for i in range(start,end+1):\n",
    "        if i%2==0:\n",
    "            even_number.append(i)\n",
    "    return even_number\n",
    "generate_even_number(4,30)\n"
   ]
  },
  {
   "cell_type": "code",
   "execution_count": 42,
   "id": "da99adeb",
   "metadata": {},
   "outputs": [
    {
     "name": "stdout",
     "output_type": "stream",
     "text": [
      "[4, 6, 8, 10, 12, 14, 16, 18, 20, 22, 24, 26, 28]\n"
     ]
    }
   ],
   "source": [
    "#print(list(range(4,30,2)))"
   ]
  },
  {
   "cell_type": "code",
   "execution_count": 44,
   "id": "3265b838",
   "metadata": {},
   "outputs": [
    {
     "name": "stdout",
     "output_type": "stream",
     "text": [
      "24\n"
     ]
    }
   ],
   "source": [
    "#Find the largest item from a given list\n",
    "#x = [4, 6, 8, 24, 12, 2]\n",
    "print(max(x))"
   ]
  },
  {
   "cell_type": "code",
   "execution_count": null,
   "id": "1e67576a",
   "metadata": {},
   "outputs": [],
   "source": []
  }
 ],
 "metadata": {
  "kernelspec": {
   "display_name": "Python 3 (ipykernel)",
   "language": "python",
   "name": "python3"
  },
  "language_info": {
   "codemirror_mode": {
    "name": "ipython",
    "version": 3
   },
   "file_extension": ".py",
   "mimetype": "text/x-python",
   "name": "python",
   "nbconvert_exporter": "python",
   "pygments_lexer": "ipython3",
   "version": "3.9.12"
  }
 },
 "nbformat": 4,
 "nbformat_minor": 5
}

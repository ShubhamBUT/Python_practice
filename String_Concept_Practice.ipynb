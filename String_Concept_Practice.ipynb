{
 "cells": [
  {
   "cell_type": "code",
   "execution_count": 25,
   "id": "4e162aa1",
   "metadata": {},
   "outputs": [
    {
     "name": "stdout",
     "output_type": "stream",
     "text": [
      "Original String is James\n",
      "New String: Jms\n"
     ]
    }
   ],
   "source": [
    "#Write a program to create a new string made of an input string’s first, middle, and last character.\n",
    "\n",
    "#str1=\"James\"\n",
    "\n",
    "\n",
    "str1 = 'James'\n",
    "print(\"Original String is\", str1)\n",
    "\n",
    "# Get first character\n",
    "res = str1[0]\n",
    "\n",
    "# Get string size\n",
    "l = len(str1)\n",
    "# Get middle index number\n",
    "mi = int(l / 2)\n",
    "# Get middle character and add it to result\n",
    "res = res + str1[mi]\n",
    "\n",
    "# Get last character and add it to result\n",
    "res = res + str1[l - 1]\n",
    "\n",
    "print(\"New String:\", res)\n",
    "\n"
   ]
  },
  {
   "cell_type": "code",
   "execution_count": 48,
   "id": "d5e4501d",
   "metadata": {},
   "outputs": [
    {
     "name": "stdout",
     "output_type": "stream",
     "text": [
      "Dip\n"
     ]
    }
   ],
   "source": [
    "#Write a program to create a new string made of the middle three characters of an input string.\n",
    "\n",
    "str1=\"JhonDipPeta\"\n",
    "\n",
    "#lenght of char\n",
    "x=int(len(str1)/2)\n",
    "word=str1[x-1:x+2]\n",
    "print(word)"
   ]
  },
  {
   "cell_type": "code",
   "execution_count": 54,
   "id": "90882c0a",
   "metadata": {},
   "outputs": [
    {
     "name": "stdout",
     "output_type": "stream",
     "text": [
      "AuKellylt\n"
     ]
    }
   ],
   "source": [
    "#Given two strings, s1 and s2. Write a program to create a new string s3 \\\n",
    "#by appending s2 in the middle of s1.\n",
    "\n",
    "s1 = \"Ault\"\n",
    "s2 = \"Kelly\"\n",
    "#s=[]\n",
    "x=int(len(s1)/2)\n",
    "word=s1[0:2]+s2[0:5]+s1[2:4]\n",
    "print(word)"
   ]
  },
  {
   "cell_type": "code",
   "execution_count": 68,
   "id": "d4f2d235",
   "metadata": {},
   "outputs": [
    {
     "data": {
      "text/plain": [
       "'AJrpan'"
      ]
     },
     "execution_count": 68,
     "metadata": {},
     "output_type": "execute_result"
    }
   ],
   "source": [
    "#Create a new string made of the first, middle, and last characters of each input string.\n",
    "\n",
    "#s1 = \"America\"\n",
    "#s2 = \"Japan\"\n",
    "\n",
    "\n",
    "def word(s1,s2):\n",
    "    \n",
    "     # get first character from both string\n",
    "    first_char=s1[0]+s2[0]\n",
    "    \n",
    "    # get middle character from both string\n",
    "    middle_char = s1[int(len(s1) / 2):int(len(s1) / 2) + 1] + s2[int(len(s2) / 2):int(len(s2) / 2) + 1]\n",
    "    \n",
    "     # get last character from both string\n",
    "    last_char = s1[len(s1) - 1] + s2[len(s2) - 1]\n",
    "    \n",
    "    res=first_char+middle_char+last_char\n",
    "                       \n",
    "    return(res)\n",
    "                       \n",
    "word('America','Japan')\n",
    "    \n",
    "    "
   ]
  },
  {
   "cell_type": "code",
   "execution_count": 97,
   "id": "ee0fb49f",
   "metadata": {},
   "outputs": [
    {
     "name": "stdout",
     "output_type": "stream",
     "text": [
      "Original string:  PyNaTive\n",
      "Result: yaivePNT\n"
     ]
    }
   ],
   "source": [
    "# Arrange string characters such that lowercase letters should come first\n",
    "\n",
    "str1=\"PyNaTive\"\n",
    "print(\"Original string: \",str1)\n",
    "lower=[]\n",
    "upper=[]\n",
    "for char in str1:\n",
    "    if char.islower():          \n",
    "        lower.append(char)          #add lowercase characters to lower list\n",
    "    else:\n",
    "        upper.append(char)           # add uppercase characters to upper list\n",
    "        \n",
    "     \n",
    "# Join both list\n",
    "sorted_str = ''.join(lower + upper)\n",
    "print('Result:', sorted_str)\n",
    "        \n",
    "\n",
    "        \n",
    "        \n",
    "        \n",
    "        \n",
    "        "
   ]
  },
  {
   "cell_type": "code",
   "execution_count": 119,
   "id": "354f79fb",
   "metadata": {},
   "outputs": [
    {
     "name": "stdout",
     "output_type": "stream",
     "text": [
      "Chars = 8 Digits = 3 Symbol = 4\n"
     ]
    }
   ],
   "source": [
    "#Count all letters, digits, and special symbols from a given string.\n",
    "\n",
    "str1=\"P@#yn26at^&i5ve\"\n",
    "char_count = 0\n",
    "digit_count = 0\n",
    "symbol_count = 0\n",
    "for char in str1:\n",
    "    \n",
    "    if char.isalpha():\n",
    "        \n",
    "        char_count += 1\n",
    "    elif char.isdigit():\n",
    "        digit_count += 1\n",
    "        # if it is not letter or digit then it is special symbol\n",
    "    else:\n",
    "        symbol_count += 1\n",
    "print(\"Chars =\", char_count, \"Digits =\", digit_count, \"Symbol =\", symbol_count)\n",
    "    "
   ]
  },
  {
   "cell_type": "code",
   "execution_count": 133,
   "id": "8386e7b5",
   "metadata": {},
   "outputs": [
    {
     "name": "stdout",
     "output_type": "stream",
     "text": [
      "AzbycX\n"
     ]
    }
   ],
   "source": [
    "##Create a mixed String using the following rules.\n",
    "#Given two strings, s1 and s2.\n",
    "#Write a program to create a new string s3 made of the first char of s1, then the last char of s2, Next, the second char of s1 and second last char of s2, and so on.\n",
    "#Any leftover chars go at the end of the result.\n",
    "\n",
    "s1 = \"Abc\"\n",
    "s2 = \"Xyz\"\n",
    "\n",
    "# Initialize the mixed string\n",
    "s3 = \"\"\n",
    "\n",
    "# Get the lengths of the strings\n",
    "len1 = len(s1)\n",
    "len2 = len(s2)\n",
    "\n",
    "# Determine the length of the shorter string\n",
    "min_len = min(len1, len2)\n",
    "\n",
    "# Iterate over the indices of both strings\n",
    "for i in range(min_len):\n",
    "    # Add the first character of s1 to s3\n",
    "    s3 += s1[i]\n",
    "    \n",
    "    # Add the last character of s2 to s3\n",
    "    s3 += s2[len2 - 1 - i]\n",
    "    \n",
    "# Add any leftover characters from s1 to s3\n",
    "if len1 > len2:\n",
    "    s3 += s1[min_len:]\n",
    "    \n",
    "# Add any leftover characters from s2 to s3\n",
    "if len2 > len1:\n",
    "    s3 += s2[len1 - min_len:][::-1]\n",
    "\n",
    "# Print the mixed string\n",
    "print(s3)\n",
    "\n",
    "\n"
   ]
  },
  {
   "cell_type": "code",
   "execution_count": 150,
   "id": "9855e5c0",
   "metadata": {},
   "outputs": [
    {
     "name": "stdout",
     "output_type": "stream",
     "text": [
      "The USA count is: 2\n"
     ]
    }
   ],
   "source": [
    "#Find all occurrences of a substring in a given string \n",
    "#by ignoring the case\n",
    "\n",
    "str1 = \"Welcome to USA. usa awesome, isn't it?\"\n",
    "temp_string=str1.lower()      ## convert string to lowercase\n",
    "\n",
    "sub_string='usa'\n",
    "\n",
    "## use count function\n",
    "count=temp_string.count(sub_string)\n",
    "\n",
    "print(\"The USA count is:\", count)"
   ]
  },
  {
   "cell_type": "code",
   "execution_count": 173,
   "id": "bca735df",
   "metadata": {},
   "outputs": [
    {
     "name": "stdout",
     "output_type": "stream",
     "text": [
      "Sum is: 38 Average is  6.333333333333333\n"
     ]
    }
   ],
   "source": [
    "str1 =\"PYnative29@#8496\"\n",
    "sum=0\n",
    "avg=0\n",
    "count=0\n",
    "for i in range(len(str1)):\n",
    "    #count=0\n",
    "    if str1[i].isdigit():\n",
    "        a=int(str1[i])\n",
    "        sum+=a\n",
    "        count+=1\n",
    "        avg=sum/int(count)      ## average = sum / count of digits\n",
    "        \n",
    "print(\"Sum is:\", sum, \"Average is \", avg)\n",
    "    \n",
    "        "
   ]
  },
  {
   "cell_type": "code",
   "execution_count": 194,
   "id": "fb460a0a",
   "metadata": {},
   "outputs": [
    {
     "name": "stdout",
     "output_type": "stream",
     "text": [
      "Result: {'A': 1, 'p': 2, 'l': 1, 'e': 1}\n"
     ]
    }
   ],
   "source": [
    "#Write a program to count occurrences of all characters within a string\n",
    "\n",
    "str1 = \"Apple\"\n",
    "\n",
    "# create a result dictionary\n",
    "char_dict = dict()\n",
    "\n",
    "for char in str1:\n",
    "    count = str1.count(char)\n",
    "    # add / update the count of a character\n",
    "    char_dict[char] = count\n",
    "print('Result:', char_dict)\n",
    "    \n",
    "     \n",
    "    \n",
    "    "
   ]
  },
  {
   "cell_type": "code",
   "execution_count": 199,
   "id": "8b606c15",
   "metadata": {},
   "outputs": [
    {
     "name": "stdout",
     "output_type": "stream",
     "text": [
      "evitanYP\n"
     ]
    }
   ],
   "source": [
    "#Reverse a given string\n",
    "\n",
    "str1 = \"PYnative\"\n",
    "str1=str1[::-1]       #Negative String slicing\n",
    "print(str1)"
   ]
  },
  {
   "cell_type": "code",
   "execution_count": 200,
   "id": "b40e082f",
   "metadata": {},
   "outputs": [
    {
     "name": "stdout",
     "output_type": "stream",
     "text": [
      "evitanYP\n"
     ]
    }
   ],
   "source": [
    "str1 = \"PYnative\"\n",
    "reversed_str = ''.join(reversed(str1))     #Using the reversed() function\n",
    "\n",
    "print(reversed_str)\n"
   ]
  },
  {
   "cell_type": "code",
   "execution_count": 207,
   "id": "23850e95",
   "metadata": {},
   "outputs": [
    {
     "name": "stdout",
     "output_type": "stream",
     "text": [
      "Last occurrence of Emma starts at index: 43\n"
     ]
    }
   ],
   "source": [
    "#Find the last position of a given substring\n",
    "\n",
    "str1 = \"Emma is a data scientist who knows Python. Emma works at google.\"\n",
    "a=len(str1)\n",
    "index=str1.rfind(\"Emma\")     #Use the string function rfind()\n",
    "print(\"Last occurrence of Emma starts at index:\", index)"
   ]
  },
  {
   "cell_type": "code",
   "execution_count": 220,
   "id": "5ef25c43",
   "metadata": {},
   "outputs": [
    {
     "name": "stdout",
     "output_type": "stream",
     "text": [
      "Emma\n",
      "is\n",
      "a\n",
      "data\n",
      "scientist\n"
     ]
    }
   ],
   "source": [
    "#Split a string on hyphens.\n",
    "\n",
    "str1 = \"Emma-is-a-data-scientist\"\n",
    "#for word in str1:\n",
    "str2=str1.split(\"-\")\n",
    "for word in str2:\n",
    "    print(word)\n"
   ]
  },
  {
   "cell_type": "code",
   "execution_count": 227,
   "id": "ad12c873",
   "metadata": {},
   "outputs": [
    {
     "name": "stdout",
     "output_type": "stream",
     "text": [
      "Original list of string:  ['Emma', 'Jon', '', 'Kelly', None, 'Eric', '']\n",
      "['Emma', 'Jon', 'Kelly', 'Eric']\n"
     ]
    }
   ],
   "source": [
    "#Remove empty strings from a list of strings\n",
    "\n",
    "str_list = [\"Emma\", \"Jon\", \"\", \"Kelly\", None, \"Eric\", \"\"]\n",
    "print(\"Original list of string: \",str_list)\n",
    "new_list=[]\n",
    "for word in str_list:\n",
    "    if word:\n",
    "        new_list.append(word)\n",
    "print(new_list)\n",
    "        \n",
    "    \n"
   ]
  },
  {
   "cell_type": "code",
   "execution_count": 228,
   "id": "17ef62af",
   "metadata": {},
   "outputs": [
    {
     "name": "stdout",
     "output_type": "stream",
     "text": [
      "After removing empty strings\n",
      "['Emma', 'Jon', 'Kelly', 'Eric']\n"
     ]
    }
   ],
   "source": [
    "#2nd method\n",
    "\n",
    "str_list = [\"Emma\", \"Jon\", \"\", \"Kelly\", None, \"Eric\", \"\"]\n",
    "\n",
    "# use built-in function filter to filter empty value\n",
    "new_str_list = list(filter(None, str_list))       #Using the built-in function filter()\n",
    "\n",
    "print(\"After removing empty strings\")\n",
    "print(new_str_list)"
   ]
  },
  {
   "cell_type": "markdown",
   "id": "547ba21a",
   "metadata": {},
   "source": [
    "Syntax of re.sub()\n",
    "\n",
    "re.sub(pattern, replacement, string[, count, flags])"
   ]
  },
  {
   "cell_type": "code",
   "execution_count": 2,
   "id": "5e7b8a35",
   "metadata": {},
   "outputs": [
    {
     "data": {
      "text/plain": [
       "'!\"#$%&\\'()*+,-./:;<=>?@[\\\\]^_`{|}~'"
      ]
     },
     "execution_count": 2,
     "metadata": {},
     "output_type": "execute_result"
    }
   ],
   "source": [
    "import string\n",
    "string.punctuation"
   ]
  },
  {
   "cell_type": "code",
   "execution_count": 3,
   "id": "b1bba349",
   "metadata": {},
   "outputs": [
    {
     "name": "stdout",
     "output_type": "stream",
     "text": [
      "Original string is  /*Jon is @developer & musician\n",
      "New string is  Jon is developer  musician\n"
     ]
    }
   ],
   "source": [
    "#Remove special symbols / punctuation from a string\n",
    "\n",
    "\n",
    "import re\n",
    "\n",
    "str1 = \"/*Jon is @developer & musician\"\n",
    "print(\"Original string is \", str1)\n",
    "\n",
    "# replace special symbols with ''\n",
    "res = re.sub(r'[^\\w\\s]', '', str1)\n",
    "print(\"New string is \", res)\n"
   ]
  },
  {
   "cell_type": "code",
   "execution_count": 4,
   "id": "e612b6bd",
   "metadata": {},
   "outputs": [
    {
     "name": "stdout",
     "output_type": "stream",
     "text": [
      "Original string is  /*Jon is @developer & musician\n",
      "New string is  Jon is developer  musician\n"
     ]
    }
   ],
   "source": [
    "#Use string functions translate() and maketrans().\n",
    "\n",
    "#The string.punctuation constant contain all special symbols.\n",
    "\n",
    "\n",
    "import string\n",
    "\n",
    "str1 = \"/*Jon is @developer & musician\"\n",
    "print(\"Original string is \", str1)\n",
    "\n",
    "new_str = str1.translate(str.maketrans('', '', string.punctuation))\n",
    "\n",
    "print(\"New string is \", new_str)"
   ]
  },
  {
   "cell_type": "code",
   "execution_count": 16,
   "id": "352858b6",
   "metadata": {},
   "outputs": [
    {
     "name": "stdout",
     "output_type": "stream",
     "text": [
      "2510"
     ]
    }
   ],
   "source": [
    "#Removal all characters from a string except integers\n",
    "\n",
    "str1 = 'I am 25 years and 10 months old'\n",
    "\n",
    "for word in str1:\n",
    "    if word.isdigit():\n",
    "        print(word,end=\"\")\n",
    "    "
   ]
  },
  {
   "cell_type": "code",
   "execution_count": 21,
   "id": "1b02891d",
   "metadata": {},
   "outputs": [
    {
     "data": {
      "text/plain": [
       "'Emma25'"
      ]
     },
     "execution_count": 21,
     "metadata": {},
     "output_type": "execute_result"
    }
   ],
   "source": [
    "str1 = \"Emma25 is Data scientist50 and AI Expert\"\n",
    "\n"
   ]
  },
  {
   "cell_type": "code",
   "execution_count": 24,
   "id": "e54fe522",
   "metadata": {},
   "outputs": [
    {
     "name": "stdout",
     "output_type": "stream",
     "text": [
      "Emma25\n",
      "scientist50\n"
     ]
    }
   ],
   "source": [
    "#Write a program to find words with both alphabets and numbers from an input string\n",
    "\n",
    "import re\n",
    "\n",
    "str1 = \"Emma25 is Data scientist50 and AI Expert\"\n",
    "\n",
    "# find words with both alphabets and numbers\n",
    "matches = re.findall(r'\\b\\w*[a-zA-Z]+\\w*\\d+\\w*\\b', str1)\n",
    "\n",
    "# print the matches in rows\n",
    "for match in matches:\n",
    "    print(match)\n",
    "\n"
   ]
  },
  {
   "cell_type": "code",
   "execution_count": null,
   "id": "034f38e0",
   "metadata": {},
   "outputs": [],
   "source": []
  }
 ],
 "metadata": {
  "kernelspec": {
   "display_name": "Python 3 (ipykernel)",
   "language": "python",
   "name": "python3"
  },
  "language_info": {
   "codemirror_mode": {
    "name": "ipython",
    "version": 3
   },
   "file_extension": ".py",
   "mimetype": "text/x-python",
   "name": "python",
   "nbconvert_exporter": "python",
   "pygments_lexer": "ipython3",
   "version": "3.9.12"
  }
 },
 "nbformat": 4,
 "nbformat_minor": 5
}
